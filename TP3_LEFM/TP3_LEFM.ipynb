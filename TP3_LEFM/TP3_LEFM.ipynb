{
 "cells": [
  {
   "cell_type": "markdown",
   "metadata": {},
   "source": [
    "<h1 align=\"center\"> TP3 : Linear Elastic Fracture Mechanics </h1>\n",
    "<h2 align=\"center\"> Jeremy Bleyer </h2>\n",
    "\n",
    "> **Objectives**:\n",
    "> * Run linear elastic finite-element analyses of cracked structures\n",
    "> * Study asymptotic fields near the crack tip\n",
    "> * Estimate stress intensity factors and energy release rate with various techniques (asymptotics, potential energy variation, $J$-integral, $G-\\theta$ method) \n",
    "\n",
    "## Problem position\n",
    "\n",
    "### Geometry\n",
    "\n",
    "\n",
    "<img src=\"pic/SENB_geometry.svg\" alt=\"SENB\" width=\"600\" align=\"middle\">\n",
    "\n",
    "We consider the problem of a single-edge notched beam in bending (SENB). It consists of a beam of span $2L$ and height $H$, simply supported on two roller-pinned supports and loaded by a concentrated vertical load at the top at its center. A vertical pre-crack is inserted from the bottom face at its center in the form of an initial notch of width $2e$ and height $h$. For symmetry reasons, we model only the right-half of the specimen.\n",
    "\n",
    "Here, we do not model crack propagation but analyze the mechanical fields for a given crack location. The crack is therefore modelled explicitly by releasing nodes of the vertical boundary. The crack extent from the pre-notch tip is denoted by $a$, the total crack length from the bottom face being then $\\ell = a + h$.\n",
    "\n",
    "\n",
    "The `SENB_geometry.py` file generates a `GMSH` (http://gmsh.info) model and returns the corresponding mesh for FEniCSx along with the corresponding boundary markers:\n",
    "* 1 : for the roller support\n",
    "* 2 : for the loading region\n",
    "* 3 : ahead of the crack tip on the vertical symmetry plane\n",
    "* 4 : the crack on the vertical symmetry plane\n",
    "* 5-6-7 : contours for the $J$-integral computations\n",
    "\n",
    "\n",
    "<img src=\"pic/SENB_model.svg\" alt=\"SENB - Gmsh model\" width=\"600\" align=\"middle\">\n",
    "\n",
    "### Material\n",
    "\n",
    "The material is linear elastic with $E=3$ GPa and $\\nu=0.33$. The computations are done in **plane stress** conditions.\n",
    "\n",
    "## Implementation\n",
    "\n",
    "We start by importing the relevant modules"
   ]
  },
  {
   "cell_type": "code",
   "execution_count": null,
   "metadata": {},
   "outputs": [],
   "source": [
    "import numpy as np\n",
    "import matplotlib.pyplot as plt\n",
    "import ufl\n",
    "from ufl import sym, grad, tr, Identity, inner\n",
    "from dolfinx import fem\n",
    "from mealor import DirichletBoundaryCondition\n",
    "from mealor.plotting import plot_mesh, plot_def\n",
    "from mealor.utils import integrate, plot_over_line, save_to_file, interpolate_expr\n",
    "from SENB_geometry import generate_SENB\n",
    "from energy_release_rate import compute_J_integral, compute_G_theta"
   ]
  },
  {
   "cell_type": "markdown",
   "metadata": {},
   "source": [
    "Now let us define the geometrical parameters. `coarse_size` denotes the mesh size away from the crack tip. Around the crack_tip, the mesh_size is reduced by a factor `refinement_ratio`."
   ]
  },
  {
   "cell_type": "code",
   "execution_count": null,
   "metadata": {},
   "outputs": [],
   "source": [
    "# SENB geometry parameters\n",
    "L = 20.0\n",
    "H = 10.0\n",
    "notch = 0.4 * H\n",
    "e = notch / 20\n",
    "s = e\n",
    "coarse_size = 2 * e\n",
    "refinement_ratio = 20\n",
    "\n",
    "# Material parameters\n",
    "E = 3e3\n",
    "nu = 0.33\n",
    "\n",
    "# loading amplitude\n",
    "F = 1.0"
   ]
  },
  {
   "cell_type": "markdown",
   "metadata": {},
   "source": [
    "We generate and plot the mesh corresponding to the case $a = 0.1H$ ($\\ell=0.5H$)."
   ]
  },
  {
   "cell_type": "code",
   "execution_count": null,
   "metadata": {},
   "outputs": [],
   "source": [
    "a = 0.1*H\n",
    "mesh_data = generate_SENB(L, H, notch, a, e, s, coarse_size, coarse_size / refinement_ratio)\n",
    "domain, cell_markers, facet_markers = mesh_data\n",
    "plot_mesh(domain)"
   ]
  },
  {
   "cell_type": "markdown",
   "metadata": {},
   "source": [
    "We now define a function to set up the variational formulation of the elastic problem, solve it and retrieve the solution"
   ]
  },
  {
   "cell_type": "code",
   "execution_count": null,
   "metadata": {},
   "outputs": [],
   "source": [
    "def epsilon(v):\n",
    "    return sym(grad(v))\n",
    "\n",
    "def get_measures(mesh_data):\n",
    "    dx = ufl.Measure(\"dx\", domain=domain, subdomain_data=cell_markers)\n",
    "    ds = ufl.Measure(\"ds\", domain=domain, subdomain_data=facet_markers)\n",
    "    dS = ufl.Measure(\"dS\", domain=domain, subdomain_data=facet_markers)\n",
    "    return (dx, ds, dS)\n",
    "\n",
    "def solve_elastic_problem(domain, measures, degree=2):\n",
    "    dx, ds, dS = measures\n",
    "    V = fem.VectorFunctionSpace(domain, (\"CG\", degree))\n",
    "    \n",
    "    u = fem.Function(V, name=\"Displacement\")\n",
    "\n",
    "    lmbda = fem.Constant(domain, E * nu / (1 + nu) / (1 - 2 * nu))\n",
    "    mu = fem.Constant(domain, E / 2 / (1 + nu))\n",
    "    lmbda_ps = (\n",
    "        2 * mu * lmbda / (lmbda + 2 * mu)\n",
    "    )  # effective lambda modulus for plane stress\n",
    "\n",
    "    def sigma(v):\n",
    "        return lmbda_ps * tr(epsilon(v)) * Identity(2) + 2 * mu * epsilon(v)\n",
    "\n",
    "    u_ = ufl.TrialFunction(V)\n",
    "    v = ufl.TestFunction(V)\n",
    "\n",
    "    load = fem.Constant(domain, np.array([0, -F / 2 / s]))\n",
    "\n",
    "    a_el = inner(sigma(u_), epsilon(v)) * dx\n",
    "    L_el = inner(load, v) * ds(2)\n",
    "\n",
    "    dirichlet = DirichletBoundaryCondition(V)\n",
    "    dirichlet.add_bc_topological(facet_markers, 1, uy=0)\n",
    "    dirichlet.add_bc_topological(facet_markers, 3, ux=0)\n",
    "\n",
    "    # Linear problem setup and solve\n",
    "    problem = fem.petsc.LinearProblem(\n",
    "        a_el,\n",
    "        L_el,\n",
    "        u=u,\n",
    "        bcs=dirichlet.bcs,\n",
    "        petsc_options={\"ksp_type\": \"preonly\", \"pc_type\": \"lu\"},\n",
    "    )\n",
    "    problem.solve()\n",
    "\n",
    "    # Stress (UFL expression, not in a FE function space)\n",
    "    sig = sigma(u)\n",
    "\n",
    "    ## Output fields\n",
    "    save_to_file(\"linear_elasticity\", u)\n",
    "    # need to interpolate sig on a function space for output\n",
    "    V_sig = fem.TensorFunctionSpace(domain, (\"DG\", degree - 1))\n",
    "    sig_interp = interpolate_expr(sig, V_sig, name=\"Stress\")\n",
    "    save_to_file(\"linear_elasticity\", sig_interp)\n",
    "\n",
    "    # Potential energy of the solution\n",
    "    energy = 2 * (-0.5 * integrate(ufl.action(L_el, u)))\n",
    "\n",
    "    return u, sig, energy"
   ]
  },
  {
   "cell_type": "markdown",
   "metadata": {},
   "source": [
    "Let's solve our first problem."
   ]
  },
  {
   "cell_type": "code",
   "execution_count": null,
   "metadata": {},
   "outputs": [],
   "source": [
    "measures = get_measures(mesh_data)\n",
    "u, sig, energy = solve_elastic_problem(domain, measures)\n",
    "\n",
    "plot_def(u, scale=100.)"
   ]
  },
  {
   "cell_type": "markdown",
   "metadata": {},
   "source": [
    "## Asymptotic field analysis\n",
    "\n",
    "Now we want to analyze the asymptotic mechanical fields near the crack tip. To do so, we use the `plot_over_line` function which retrieves values of a given field on a line `[pA, pB]` between two points `pA` and `pB`.\n",
    "\n",
    "### Crack-opening displacement\n",
    "\n",
    "**Q1.** What can you say about the crack opening displacement ? Is it behaving as expected ? We suggest defining a variable `r` as the distance from the crack tip and plot the fields against `r`.\n",
    "\n",
    "**Q2.** Give an estimate of the stress intensity factor SIF from the crack-opening displacement asymptotic behaviour. We suggest plotting the quantity corresponding to the SIF as a function of `r`. Is this method robust ?\n"
   ]
  },
  {
   "cell_type": "code",
   "execution_count": null,
   "metadata": {},
   "outputs": [],
   "source": [
    "ell = a + notch\n",
    "pA = (0, 0.95*ell)\n",
    "pB = (0, ell)\n",
    "u_x, points = plot_over_line(u.sub(0), [pA, pB], domain)\n",
    "\n",
    "plt.figure()\n",
    "plt.plot(points[:, 1], u_x, \"-\")\n",
    "plt.xlabel(r\"$x$\")\n",
    "plt.ylabel(\"Horizontal displacement\")\n",
    "plt.show()"
   ]
  },
  {
   "cell_type": "markdown",
   "metadata": {},
   "source": [
    "### Stress field\n",
    "\n",
    "**Q3.** Do a similar study for the stress field. Is the stress field varying as expected around the crack tip ? What is the mode mixity for this crack ?\n",
    "> You can access the `i,j` component of the stress using `sig[i,j]` for `i,j=0,1` corresponding respectively to $x,y$."
   ]
  },
  {
   "cell_type": "code",
   "execution_count": null,
   "metadata": {},
   "outputs": [],
   "source": []
  },
  {
   "cell_type": "markdown",
   "metadata": {},
   "source": [
    "## Energy release rate computations\n",
    "\n",
    "In this part, we would like to explore more robust ways of measuring SIF or, equivalently using Irwin's formula, energy release rates (ERR) using various methods.\n",
    "\n",
    "### Potential energy variation\n",
    "\n",
    " We will first use the variation of the potential energy as a function of the crack variation. To compute it around the value $a_0=0.1$, let us loop over a list of crack length values $a$ around $a_0$ and analyze the variation of the potential energy. Note that we must generate a new mesh for each value of $a$.\n"
   ]
  },
  {
   "cell_type": "code",
   "execution_count": null,
   "metadata": {},
   "outputs": [],
   "source": [
    "a0 = 0.1 * H\n",
    "a_list = np.linspace(0.8 * a0, 1.2 * a0, 10)\n",
    "\n",
    "E_pot = np.zeros_like(a_list)\n",
    "for i, a in enumerate(a_list):\n",
    "    mesh_data = generate_SENB(L, H, notch, a, e, s, coarse_size, coarse_size / refinement_ratio)\n",
    "    domain, cell_markers, facet_markers = mesh_data\n",
    "    measures = get_measures(mesh_data)\n",
    "\n",
    "    u, sig, energy = solve_elastic_problem(domain, measures)\n",
    "\n",
    "    print(f\"Crack length a={a:.3f}   Potential energy E_pot={energy:.5f}\")\n",
    "    \n",
    "    E_pot[i] = energy"
   ]
  },
  {
   "cell_type": "markdown",
   "metadata": {},
   "source": [
    " **Q4.** Plot the variation of the potential energy as a function of $a$. Compute and plot the variation of the ERR as a function of $a$. Give an estimate of the ERR and the corresponding SIF.\n",
    "\n",
    " **Q5.**  What can you say about the characteristics of the crack propagation ? Fix the roller supports to block any horizontal motion and discuss again the crack propagation characteristics."
   ]
  },
  {
   "cell_type": "code",
   "execution_count": null,
   "metadata": {},
   "outputs": [],
   "source": []
  },
  {
   "cell_type": "markdown",
   "metadata": {},
   "source": [
    "### $J$-integral\n",
    "\n",
    "Now, we would like to compute the ERR using the $J$-integral.\n",
    "\n",
    "**Q6.** Write the $J$-integral as a function of the Eshelby tensor defined by:\n",
    "$$E_{ij} = w \\delta_{ij} − u_{k,i}\\sigma_{kj} \\quad \\text{with}\\:\\: w=\\dfrac{1}{2}\\boldsymbol{\\sigma}:\\boldsymbol{\\varepsilon(\\boldsymbol{u})}$$\n",
    "Inside the above loop, compute the Eshelby tensor from `u` and `sigma`. Express it first in intrinsic notation. You can use `*` for the single contraction product between two tensors and `A.T` for transposing a tensor `A`.\n",
    "\n",
    "> SOL: For a crack propagating in the direction $\\boldsymbol{t}$, the $J$-integral writes:\n",
    "> $$J = \\int_{\\Gamma} \\boldsymbol{t}\\cdot\\boldsymbol{E}\\cdot\\boldsymbol{n} \\,\\text{d}S$$\n",
    "\n",
    "**Q7.** Complete the function `compute_J_integral` which takes as an input the Eshelby tensor and the integration measures. We suggest to decompose the integral into 3 different contribution using the integration measure `dS` on interior facets and use the vectors `ex` and `ey` appropriately. Use the function `integrate` to compute the numerical value of your symbolic integral expression.\n",
    "\n",
    "**Q8.** Run the loop and compare with the previous ERR estimates. Check that the $J$-integral does not strongly depend on the chosen contour by changing the optional argument `rJ` in ` generate_SENB` (`rJ=5*e` by default.)"
   ]
  },
  {
   "cell_type": "code",
   "execution_count": null,
   "metadata": {},
   "outputs": [],
   "source": []
  },
  {
   "cell_type": "markdown",
   "metadata": {},
   "source": [
    "### $G-\\theta$ method\n",
    "\n",
    "Finally, we would like to implement the $G-\\theta$ method to compute the ERR without relying on computing facet quantities on internal contours as in the $J$-integral method. We recall that the ERR for a crack propagating in direction $\\vec{t}$ can be obtained from the Eshelby tensor as follows:\n",
    "$$ G = -\\int_{\\Omega} \\theta_{i,j}E_{ij}\\,\\text{d}\\Omega$$\n",
    "where $\\vec{\\theta}$ is a continuous vectorial field with value $\\vec{t}$ in a region around the crack tip and zero around an interior contour.\n",
    "\n",
    "**Q9.** Such a vectorial field `theta` has already been defined in the function `compute_G_theta`. It linearly decreases as a function of $r$, the distance to the crack tip, between an internal disk of radius `r_int` towards an external disk of radius `r_ext`. Note that `r_ext` must not intersect the external boundary. Complete the function to compute the ERR (we recall that in UFL `inner(A, B)`$=A_{ij}B_{ij}$).\n",
    "\n",
    "**Q10.** Run the loop and compare with the previous ERR estimates. Check that the $G-\\theta$ method does not strongly depend on the chosen $\\theta$ field."
   ]
  },
  {
   "cell_type": "code",
   "execution_count": null,
   "metadata": {},
   "outputs": [],
   "source": []
  },
  {
   "cell_type": "markdown",
   "metadata": {},
   "source": [
    "**Q11.** To further verify your results, we provide below an analytical estimate of the SIF obtained from the ASTM standards [1]. \n",
    "$$\n",
    "K_I(\\ell) = \\dfrac{3F(2L)}{H^{3/2}}\\sqrt{\\dfrac{\\ell}{H}}\\dfrac{1.99-\\dfrac{\\ell}{H}\\left(1-\\dfrac{\\ell}{H}\\right)\\left(2.15-3.93\\dfrac{\\ell}{H} +2.7\\left(\\dfrac{\\ell}{H}\\right)^2 \\right)}{2\\left(1+2\\dfrac{\\ell}{H}\\right)\\left(1-\\dfrac{\\ell}{H}\\right)^{3/2}}\n",
    "$$\n",
    "Check that your computed SIF compare well against the standards around a wide range of values of crack length, for instance for a from $0.01H$ to $0.5H$."
   ]
  },
  {
   "cell_type": "code",
   "execution_count": null,
   "metadata": {},
   "outputs": [],
   "source": [
    "def K_ASTM(ell):\n",
    "    x = ell/H\n",
    "    return (3*F*2*L/ H**1.5)*(\n",
    "            np.sqrt(x)\n",
    "            * (1.99 - x * (1 - x) * (2.15 - 3.93 * x + 2.7 * x**2))\n",
    "            / (2 * (1 + 2 * x) * (1 - x) ** 1.5)\n",
    "        )\n",
    "    "
   ]
  }
 ],
 "metadata": {
  "kernelspec": {
   "display_name": "Python 3 (ipykernel)",
   "language": "python",
   "name": "python3"
  },
  "language_info": {
   "codemirror_mode": {
    "name": "ipython",
    "version": 3
   },
   "file_extension": ".py",
   "mimetype": "text/x-python",
   "name": "python",
   "nbconvert_exporter": "python",
   "pygments_lexer": "ipython3",
   "version": "3.10.12"
  }
 },
 "nbformat": 4,
 "nbformat_minor": 4
}
