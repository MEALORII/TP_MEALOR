{
 "cells": [
  {
   "cell_type": "code",
   "execution_count": null,
   "metadata": {},
   "outputs": [],
   "source": [
    "import numpy as np\n",
    "import matplotlib.pyplot as plt\n",
    "from damage_gradient import solve_problem\n",
    "from generate_mesh import generate_compact_tension\n",
    "\n",
    "\n",
    "problem_type = \"CT\"\n",
    "W = 8.0\n",
    "a = 3.0\n",
    "B = 4.0\n",
    "e = 0.25\n",
    "theta = 0*np.pi/180 \n",
    "coarse_size = 0.5\n",
    "fine_size = 0.05\n",
    "x_tip = a + 0.25 * W\n",
    "y_tip = 0\n",
    "domain, subdomains, facets = generate_compact_tension(problem_type, W, a, e, theta, coarse_size, fine_size)\n",
    "geometry_params = (W, a, B, x_tip, y_tip)\n",
    "\n",
    "\n",
    "# Material parameters\n",
    "E = 1.8e3\n",
    "nu = 0.3\n",
    "KIc = 0.95\n",
    "Gc = KIc**2 / E * 1e3\n",
    "l0 = 0.2\n",
    "model = \"AT1\"\n",
    "Nincr = 50\n",
    "Umax = 0.4\n",
    "mech_params = (E, nu, Gc, l0, model, Umax, Nincr)\n",
    "\n",
    "# Alternate minimization parameters\n",
    "Niter_max = 200\n",
    "tol = 1e-6\n",
    "\n",
    "# boundary conditions\n",
    "\n",
    "def top_pin(x):\n",
    "    return np.logical_and(np.isclose(x[0], 0.25 * W), np.isclose(x[1], 0.275 * W))\n",
    "\n",
    "\n",
    "def bot_pin(x):\n",
    "    return np.logical_and(np.isclose(x[0], 0.25 * W), np.isclose(x[1], -0.275 * W))\n",
    "\n",
    "\n",
    "def generate_bcs(dirichlet, Uimp):\n",
    "    dirichlet.add_bc_geometrical(bot_pin, ux=0, uy=0)\n",
    "    dirichlet.add_bc_geometrical(top_pin, ux=0, uy=Uimp)\n",
    "\n",
    "\n",
    "prob_params = (problem_type, generate_bcs, Niter_max, tol)\n",
    "results, u, d, sig = solve_problem(domain, subdomains, facets, geometry_params, prob_params, mech_params)"
   ]
  },
  {
   "cell_type": "code",
   "execution_count": null,
   "metadata": {},
   "outputs": [],
   "source": [
    "Uimp = results[:, 0]\n",
    "F = results[:, 1]\n",
    "elastic = results[:, 2]\n",
    "fracture = results[:, 3]\n",
    "\n",
    "\n",
    "plt.plot(Uimp, F)\n",
    "plt.xlabel(\"Imposed displacement $U$ [mm]\")\n",
    "plt.ylabel(\"Force [N]\")\n",
    "plt.show()\n",
    "\n",
    "\n",
    "print(f\"Maximum force {max(F):.3f}\")"
   ]
  }
 ],
 "metadata": {
  "kernelspec": {
   "display_name": "base",
   "language": "python",
   "name": "python3"
  },
  "language_info": {
   "codemirror_mode": {
    "name": "ipython",
    "version": 3
   },
   "file_extension": ".py",
   "mimetype": "text/x-python",
   "name": "python",
   "nbconvert_exporter": "python",
   "pygments_lexer": "ipython3",
   "version": "3.10.0"
  },
  "orig_nbformat": 4
 },
 "nbformat": 4,
 "nbformat_minor": 2
}
