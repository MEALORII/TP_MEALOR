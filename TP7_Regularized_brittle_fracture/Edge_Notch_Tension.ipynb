{
 "cells": [
  {
   "cell_type": "code",
   "execution_count": null,
   "metadata": {},
   "outputs": [],
   "source": [
    "import numpy as np\n",
    "import matplotlib.pyplot as plt\n",
    "from damage_gradient import solve_problem\n",
    "from generate_mesh import generate_edge_notch_tension\n",
    "\n",
    "\n",
    "problem_type = \"SENT\"\n",
    "L = 20.0\n",
    "# SET 1\n",
    "W = 4.6\n",
    "B = 1.6\n",
    "# SET 2\n",
    "# W = 4.\n",
    "# B = 1.55\n",
    "\n",
    "a = 1.0\n",
<<<<<<< HEAD
    "theta = 15 * np.pi / 180\n",
=======
    "theta = 0 * np.pi / 180\n",
>>>>>>> a217748f16fecbf48d16a2ea2fb03b7ca2645a48
    "x_tip = -W / 2 + a\n",
    "y_tip = 0\n",
    "fine_size = 0.05\n",
    "coarse_size = 0.5\n",
    "domain, subdomains, facets = generate_edge_notch_tension(\n",
    "    problem_type, L, W, a, theta, fine_size, coarse_size, e=0.25\n",
    ")\n",
    "geometry_params = (W, a, B, x_tip, y_tip)\n",
    "\n",
    "# Material parameters\n",
    "E = 1.8e3\n",
    "nu = 0.3\n",
    "Gc = 0\n",
    "l0 = 0.2\n",
    "model = \"AT1\"\n",
    "Nincr = 50\n",
    "Umax = 0.4\n",
    "mech_params = (E, nu, Gc, l0, model, Umax, Nincr)\n",
    "\n",
    "# Alternate minimization parameters\n",
    "Niter_max = 200\n",
    "tol = 1e-6\n",
    "\n",
    "# boundary conditions\n",
    "def generate_bcs(dirichlet, Uimp):\n",
    "    dirichlet.add_bc_topological(facets, 1, ux=0, uy=0)\n",
    "    dirichlet.add_bc_topological(facets, 2, ux=0, uy=Uimp)\n",
    "\n",
    "\n",
    "prob_params = (problem_type, generate_bcs, Niter_max, tol)\n",
    "results, u, d, sig = solve_problem(domain, subdomains, facets, geometry_params, prob_params, mech_params)"
   ]
  },
  {
   "cell_type": "code",
   "execution_count": null,
   "metadata": {},
   "outputs": [],
   "source": [
    "Uimp = results[:, 0]\n",
    "F = results[:, 1]\n",
    "elastic = results[:, 2]\n",
    "fracture = results[:, 3]\n",
    "\n",
    "\n",
    "plt.plot(Uimp, F)\n",
    "plt.xlabel(\"Imposed displacement $U$ [mm]\")\n",
    "plt.ylabel(\"Force [N]\")\n",
    "plt.show()\n",
    "\n",
    "\n",
    "print(f\"Maximum force {max(F):.3f}\")"
   ]
  },
  {
   "cell_type": "code",
   "execution_count": null,
   "metadata": {},
   "outputs": [],
   "source": []
  }
 ],
 "metadata": {
  "kernelspec": {
   "display_name": "Python 3 (ipykernel)",
   "language": "python",
   "name": "python3"
  },
  "language_info": {
   "codemirror_mode": {
    "name": "ipython",
    "version": 3
   },
   "file_extension": ".py",
   "mimetype": "text/x-python",
   "name": "python",
   "nbconvert_exporter": "python",
   "pygments_lexer": "ipython3",
<<<<<<< HEAD
   "version": "3.10.0"
=======
   "version": "3.10.12"
>>>>>>> a217748f16fecbf48d16a2ea2fb03b7ca2645a48
  }
 },
 "nbformat": 4,
 "nbformat_minor": 4
}
